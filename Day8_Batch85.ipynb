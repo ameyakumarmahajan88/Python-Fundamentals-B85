{
 "cells": [
  {
   "cell_type": "code",
   "execution_count": 1,
   "id": "b2727046",
   "metadata": {},
   "outputs": [],
   "source": [
    "# Introduction to dictionary: A dictionary is a combination of key value pairs\n",
    "\n",
    "# classification: Its classified as a mutable data type\n",
    "\n",
    "# it is defined as {}\n",
    "\n",
    "\n",
    "alien = {'color':'green','points':5}"
   ]
  },
  {
   "cell_type": "code",
   "execution_count": 2,
   "id": "db92aa9b",
   "metadata": {},
   "outputs": [
    {
     "name": "stdout",
     "output_type": "stream",
     "text": [
      "{'color': 'green', 'points': 5}\n"
     ]
    }
   ],
   "source": [
    "print(alien)"
   ]
  },
  {
   "cell_type": "code",
   "execution_count": 3,
   "id": "a1c7015a",
   "metadata": {},
   "outputs": [
    {
     "data": {
      "text/plain": [
       "dict"
      ]
     },
     "execution_count": 3,
     "metadata": {},
     "output_type": "execute_result"
    }
   ],
   "source": [
    "type(alien)"
   ]
  },
  {
   "cell_type": "code",
   "execution_count": 4,
   "id": "b5f9a4e6",
   "metadata": {},
   "outputs": [],
   "source": [
    "# add a value in the dictionary:\n",
    "\n",
    "alien['start_value'] = 0"
   ]
  },
  {
   "cell_type": "code",
   "execution_count": 5,
   "id": "a20011a7",
   "metadata": {},
   "outputs": [],
   "source": [
    "alien['color'] = 'yellow'"
   ]
  },
  {
   "cell_type": "code",
   "execution_count": 6,
   "id": "603f5b76",
   "metadata": {},
   "outputs": [
    {
     "name": "stdout",
     "output_type": "stream",
     "text": [
      "{'color': 'yellow', 'points': 5, 'start_value': 0}\n"
     ]
    }
   ],
   "source": [
    "print(alien)"
   ]
  },
  {
   "cell_type": "code",
   "execution_count": 7,
   "id": "ed26527d",
   "metadata": {},
   "outputs": [],
   "source": [
    "# delete points from dictionary\n",
    "\n",
    "del alien['points']"
   ]
  },
  {
   "cell_type": "code",
   "execution_count": 8,
   "id": "7196e537",
   "metadata": {},
   "outputs": [
    {
     "name": "stdout",
     "output_type": "stream",
     "text": [
      "{'color': 'yellow', 'start_value': 0}\n"
     ]
    }
   ],
   "source": [
    "print(alien)"
   ]
  },
  {
   "cell_type": "code",
   "execution_count": 9,
   "id": "ebbfc749",
   "metadata": {},
   "outputs": [],
   "source": [
    "user_account = {'username': 'codetraining','first_name':'ameya','last_name':'mahajan','password': 12345}"
   ]
  },
  {
   "cell_type": "code",
   "execution_count": 10,
   "id": "29de9f8e",
   "metadata": {},
   "outputs": [
    {
     "name": "stdout",
     "output_type": "stream",
     "text": [
      "{'username': 'codetraining', 'first_name': 'ameya', 'last_name': 'mahajan', 'password': 12345}\n"
     ]
    }
   ],
   "source": [
    "print(user_account)"
   ]
  },
  {
   "cell_type": "code",
   "execution_count": 12,
   "id": "2e7b41fd",
   "metadata": {},
   "outputs": [
    {
     "name": "stdout",
     "output_type": "stream",
     "text": [
      "username\n",
      "codetraining\n",
      "first_name\n",
      "ameya\n",
      "last_name\n",
      "mahajan\n",
      "password\n",
      "12345\n"
     ]
    }
   ],
   "source": [
    "for a,b in user_account.items():\n",
    "    print(a)\n",
    "    print(b)"
   ]
  },
  {
   "cell_type": "code",
   "execution_count": 13,
   "id": "58b02740",
   "metadata": {},
   "outputs": [
    {
     "name": "stdout",
     "output_type": "stream",
     "text": [
      "key : username\n",
      "value : codetraining\n",
      "\n",
      "key : first_name\n",
      "value : ameya\n",
      "\n",
      "key : last_name\n",
      "value : mahajan\n",
      "\n",
      "key : password\n",
      "value : 12345\n",
      "\n"
     ]
    }
   ],
   "source": [
    "# enhancement of the code:\n",
    "\n",
    "\n",
    "for a,b in user_account.items():\n",
    "    print(f\"key : {a}\")\n",
    "    print(f\"value : {b}\\n\")"
   ]
  },
  {
   "cell_type": "code",
   "execution_count": 15,
   "id": "794c7fee",
   "metadata": {},
   "outputs": [
    {
     "name": "stdout",
     "output_type": "stream",
     "text": [
      "key :username\n",
      "key :first_name\n",
      "key :last_name\n",
      "key :password\n"
     ]
    }
   ],
   "source": [
    "for a in user_account.keys():\n",
    "    print(f\"key :{a}\")"
   ]
  },
  {
   "cell_type": "code",
   "execution_count": 16,
   "id": "94a0763f",
   "metadata": {},
   "outputs": [
    {
     "name": "stdout",
     "output_type": "stream",
     "text": [
      "value: username\n",
      "value: first_name\n",
      "value: last_name\n",
      "value: password\n"
     ]
    }
   ],
   "source": [
    "for b in user_account.keys():\n",
    "    print(f\"value: {b}\")"
   ]
  },
  {
   "cell_type": "code",
   "execution_count": null,
   "id": "c69c7269",
   "metadata": {},
   "outputs": [],
   "source": []
  }
 ],
 "metadata": {
  "kernelspec": {
   "display_name": "Python 3 (ipykernel)",
   "language": "python",
   "name": "python3"
  },
  "language_info": {
   "codemirror_mode": {
    "name": "ipython",
    "version": 3
   },
   "file_extension": ".py",
   "mimetype": "text/x-python",
   "name": "python",
   "nbconvert_exporter": "python",
   "pygments_lexer": "ipython3",
   "version": "3.11.4"
  }
 },
 "nbformat": 4,
 "nbformat_minor": 5
}
