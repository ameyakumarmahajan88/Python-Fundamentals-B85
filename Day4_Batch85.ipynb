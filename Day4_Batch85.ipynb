{
 "cells": [
  {
   "cell_type": "code",
   "execution_count": 1,
   "id": "b687bae6",
   "metadata": {},
   "outputs": [],
   "source": [
    "# Introduction to List datatype\n",
    "\n",
    "''' Definition: A list is a collection of items in a particular order\n",
    "It is calssified as a mutable dataype (which can be edited or modified)\n",
    "\n",
    "How to define a list datatype ....[]\n",
    "\n",
    "'''\n",
    "\n",
    "students = ['khadija','anitha','naveen','suresh','keerthi','david']"
   ]
  },
  {
   "cell_type": "code",
   "execution_count": 2,
   "id": "39014366",
   "metadata": {},
   "outputs": [
    {
     "name": "stdout",
     "output_type": "stream",
     "text": [
      "['khadija', 'anitha', 'naveen', 'suresh', 'keerthi', 'david']\n"
     ]
    }
   ],
   "source": [
    "print(students)"
   ]
  },
  {
   "cell_type": "code",
   "execution_count": 3,
   "id": "5e410efe",
   "metadata": {},
   "outputs": [
    {
     "data": {
      "text/plain": [
       "'anitha'"
      ]
     },
     "execution_count": 3,
     "metadata": {},
     "output_type": "execute_result"
    }
   ],
   "source": [
    "# undertand concept of indexes  (0,1,2,3,4,5,.....)\n",
    "\n",
    "# req: i want to access anitha name from the above\n",
    "\n",
    "students[1]"
   ]
  },
  {
   "cell_type": "code",
   "execution_count": 4,
   "id": "45d0841a",
   "metadata": {},
   "outputs": [
    {
     "data": {
      "text/plain": [
       "'suresh'"
      ]
     },
     "execution_count": 4,
     "metadata": {},
     "output_type": "execute_result"
    }
   ],
   "source": [
    "# req: i want to access suresh name from the above\n",
    "\n",
    "students[3]"
   ]
  },
  {
   "cell_type": "code",
   "execution_count": 6,
   "id": "ed433a7b",
   "metadata": {},
   "outputs": [
    {
     "name": "stdout",
     "output_type": "stream",
     "text": [
      "Suresh\n"
     ]
    }
   ],
   "source": [
    "# print suresh name in Initcaps\n",
    "\n",
    "print(students[3].title())"
   ]
  },
  {
   "cell_type": "code",
   "execution_count": 8,
   "id": "fa5ae3c8",
   "metadata": {},
   "outputs": [],
   "source": [
    "# req : i want to add satish to the list\n",
    "\n",
    "students.append('satish')"
   ]
  },
  {
   "cell_type": "code",
   "execution_count": 9,
   "id": "c7d2eed9",
   "metadata": {},
   "outputs": [
    {
     "name": "stdout",
     "output_type": "stream",
     "text": [
      "['khadija', 'anitha', 'naveen', 'suresh', 'keerthi', 'david', 'satish']\n"
     ]
    }
   ],
   "source": [
    "print(students)"
   ]
  },
  {
   "cell_type": "code",
   "execution_count": 23,
   "id": "19726956",
   "metadata": {},
   "outputs": [
    {
     "name": "stdout",
     "output_type": "stream",
     "text": [
      "['rubina', 'tanvir', 'tanvir', 'tanvir', 'naveen', 'suresh', 'keerthi', 'david', 'satish', 'shoaib', 'shoaib', 'shoaib', 'shoaib']\n"
     ]
    }
   ],
   "source": [
    "# req : i want to add shoaib to the list\n",
    "\n",
    "students.append('shoaib')\n",
    "\n",
    "print(students)\n",
    "\n",
    "# I wan to add tanvir name at 2nd index position\n",
    "\n",
    "students.insert(2,'tanvir')\n",
    "\n"
   ]
  },
  {
   "cell_type": "code",
   "execution_count": 38,
   "id": "866d35d8",
   "metadata": {},
   "outputs": [
    {
     "name": "stdout",
     "output_type": "stream",
     "text": [
      "['rubina', 'tanvir', 'naveen', 'suresh', 'keerthi', 'shoaib']\n"
     ]
    }
   ],
   "source": [
    "print(students)"
   ]
  },
  {
   "cell_type": "code",
   "execution_count": 35,
   "id": "a0d6f801",
   "metadata": {},
   "outputs": [
    {
     "name": "stdout",
     "output_type": "stream",
     "text": [
      "['rubina', 'tanvir', 'tanvir', 'naveen', 'suresh', 'keerthi', 'shoaib']\n"
     ]
    }
   ],
   "source": [
    "## Vimp diff between append and insert method in list data type:\n",
    "# append adds elements at the end whereas insert adds elements at desired index position\n",
    "\n",
    "#req: i want to modify khadija to rubina\n",
    "\n",
    "students[0] ='rubina'\n",
    "\n",
    "print(students)"
   ]
  },
  {
   "cell_type": "code",
   "execution_count": 39,
   "id": "a322666e",
   "metadata": {},
   "outputs": [
    {
     "name": "stdout",
     "output_type": "stream",
     "text": [
      "['rubina', 'tanvir', 'naveen', 'suresh', 'keerthi', 'shoaib']\n"
     ]
    }
   ],
   "source": [
    "print(students)"
   ]
  },
  {
   "cell_type": "code",
   "execution_count": 18,
   "id": "757e9d13",
   "metadata": {},
   "outputs": [],
   "source": [
    "# req : i want to remove anitha from the list\n",
    "\n",
    "del students[1]"
   ]
  },
  {
   "cell_type": "code",
   "execution_count": 19,
   "id": "4edf2fbb",
   "metadata": {},
   "outputs": [
    {
     "name": "stdout",
     "output_type": "stream",
     "text": [
      "['rubina', 'tanvir', 'naveen', 'suresh', 'keerthi', 'david', 'satish', 'shoaib', 'shoaib']\n"
     ]
    }
   ],
   "source": [
    "print(students)"
   ]
  },
  {
   "cell_type": "code",
   "execution_count": null,
   "id": "922543ae",
   "metadata": {},
   "outputs": [],
   "source": []
  }
 ],
 "metadata": {
  "kernelspec": {
   "display_name": "Python 3 (ipykernel)",
   "language": "python",
   "name": "python3"
  },
  "language_info": {
   "codemirror_mode": {
    "name": "ipython",
    "version": 3
   },
   "file_extension": ".py",
   "mimetype": "text/x-python",
   "name": "python",
   "nbconvert_exporter": "python",
   "pygments_lexer": "ipython3",
   "version": "3.11.4"
  }
 },
 "nbformat": 4,
 "nbformat_minor": 5
}
