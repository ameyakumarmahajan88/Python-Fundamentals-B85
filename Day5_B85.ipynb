{
 "cells": [
  {
   "cell_type": "code",
   "execution_count": 7,
   "id": "015120e0",
   "metadata": {},
   "outputs": [],
   "source": [
    "# continuation with list datatype\n",
    "\n",
    "# Organising the list datatype:\n",
    "\n",
    "cars = ['suzuki','maruti','hyundai','benz','kia','audi','tata','bmw']\n"
   ]
  },
  {
   "cell_type": "code",
   "execution_count": 2,
   "id": "00a778b0",
   "metadata": {},
   "outputs": [
    {
     "name": "stdout",
     "output_type": "stream",
     "text": [
      "['suzuki', 'maruti', 'hyundai', 'benz', 'kia', 'audi', 'tata', 'bmw']\n"
     ]
    }
   ],
   "source": [
    "print(cars)"
   ]
  },
  {
   "cell_type": "code",
   "execution_count": 9,
   "id": "6570b124",
   "metadata": {},
   "outputs": [
    {
     "name": "stdout",
     "output_type": "stream",
     "text": [
      "['audi', 'benz', 'bmw', 'hyundai', 'kia', 'maruti', 'suzuki', 'tata']\n"
     ]
    }
   ],
   "source": [
    "# req : i want to organise the above list in alphabetical order...a,b,c...z\n",
    "\n",
    "''' Approaches:\n",
    "1. Temp approach: We will be able to get the original defined list order (sorted)\n",
    "2. Permanent approach: Changes will be applied permanently (sort)\n",
    "\n",
    "\n",
    "'''\n",
    "\n",
    "print(sorted(cars))"
   ]
  },
  {
   "cell_type": "code",
   "execution_count": 10,
   "id": "348bf252",
   "metadata": {},
   "outputs": [
    {
     "name": "stdout",
     "output_type": "stream",
     "text": [
      "['suzuki', 'maruti', 'hyundai', 'benz', 'kia', 'audi', 'tata', 'bmw']\n"
     ]
    }
   ],
   "source": [
    "print(cars)"
   ]
  },
  {
   "cell_type": "code",
   "execution_count": 11,
   "id": "f4b60be3",
   "metadata": {},
   "outputs": [],
   "source": [
    "cars.sort()"
   ]
  },
  {
   "cell_type": "code",
   "execution_count": 12,
   "id": "bf476e1f",
   "metadata": {},
   "outputs": [
    {
     "name": "stdout",
     "output_type": "stream",
     "text": [
      "['audi', 'benz', 'bmw', 'hyundai', 'kia', 'maruti', 'suzuki', 'tata']\n"
     ]
    }
   ],
   "source": [
    "print(cars)"
   ]
  },
  {
   "cell_type": "code",
   "execution_count": null,
   "id": "cb82d762",
   "metadata": {},
   "outputs": [],
   "source": [
    "## interview question sorted v/s sort method in list datatype\n",
    "## Ans: in sorted method, we can get back original order whereas in sort method the order change is permanent\n",
    "\n"
   ]
  },
  {
   "cell_type": "code",
   "execution_count": 13,
   "id": "5d099100",
   "metadata": {},
   "outputs": [
    {
     "data": {
      "text/plain": [
       "8"
      ]
     },
     "execution_count": 13,
     "metadata": {},
     "output_type": "execute_result"
    }
   ],
   "source": [
    "# req : i want to know the number of elements in a list datatype\n",
    "\n",
    "len(cars)"
   ]
  },
  {
   "cell_type": "code",
   "execution_count": 14,
   "id": "4870c958",
   "metadata": {},
   "outputs": [],
   "source": [
    "# req : i want to reverse the list that has been defined\n",
    "\n",
    "cars.reverse()\n"
   ]
  },
  {
   "cell_type": "code",
   "execution_count": 16,
   "id": "15b330c0",
   "metadata": {},
   "outputs": [
    {
     "name": "stdout",
     "output_type": "stream",
     "text": [
      "['tata', 'suzuki', 'maruti', 'kia', 'hyundai', 'bmw', 'benz', 'audi']\n"
     ]
    }
   ],
   "source": [
    "print(cars)"
   ]
  },
  {
   "cell_type": "code",
   "execution_count": 17,
   "id": "c48c3c9c",
   "metadata": {},
   "outputs": [],
   "source": [
    "# Intro to slicing:\n",
    "\n",
    "students = ['parvez','naveen','khadija','roja','karthik','joseph']"
   ]
  },
  {
   "cell_type": "code",
   "execution_count": 18,
   "id": "0c5c0d15",
   "metadata": {},
   "outputs": [
    {
     "name": "stdout",
     "output_type": "stream",
     "text": [
      "['parvez', 'naveen', 'khadija', 'roja', 'karthik', 'joseph']\n"
     ]
    }
   ],
   "source": [
    "print(students)"
   ]
  },
  {
   "cell_type": "code",
   "execution_count": 19,
   "id": "2accbf61",
   "metadata": {},
   "outputs": [
    {
     "data": {
      "text/plain": [
       "['parvez', 'naveen']"
      ]
     },
     "execution_count": 19,
     "metadata": {},
     "output_type": "execute_result"
    }
   ],
   "source": [
    "# general syntax of slicing:  [start_value: stop_value: step_count]\n",
    "\n",
    "# Note: Last value is always exclusive, to include it we have to increment the index by +1\n",
    "\n",
    "# req: i want to get parvez and naveen in a slice\n",
    "\n",
    "students[0:2]"
   ]
  },
  {
   "cell_type": "code",
   "execution_count": 20,
   "id": "a73979be",
   "metadata": {},
   "outputs": [
    {
     "data": {
      "text/plain": [
       "['khadija', 'roja']"
      ]
     },
     "execution_count": 20,
     "metadata": {},
     "output_type": "execute_result"
    }
   ],
   "source": [
    "# req: i want to get khadija and roja in a slice\n",
    "\n",
    "students[2:4]"
   ]
  },
  {
   "cell_type": "code",
   "execution_count": 22,
   "id": "c81419c6",
   "metadata": {},
   "outputs": [
    {
     "data": {
      "text/plain": [
       "['karthik', 'joseph']"
      ]
     },
     "execution_count": 22,
     "metadata": {},
     "output_type": "execute_result"
    }
   ],
   "source": [
    "# req: i want to get karthik and  joseph in a slice\n",
    "\n",
    "students[4:6]"
   ]
  },
  {
   "cell_type": "code",
   "execution_count": 23,
   "id": "8bcffc47",
   "metadata": {},
   "outputs": [
    {
     "data": {
      "text/plain": [
       "['parvez', 'khadija', 'karthik']"
      ]
     },
     "execution_count": 23,
     "metadata": {},
     "output_type": "execute_result"
    }
   ],
   "source": [
    "# req: print all alternate values\n",
    "\n",
    "students[0:6:2]"
   ]
  },
  {
   "cell_type": "code",
   "execution_count": 24,
   "id": "fa41bb20",
   "metadata": {},
   "outputs": [
    {
     "data": {
      "text/plain": [
       "['naveen', 'roja', 'joseph']"
      ]
     },
     "execution_count": 24,
     "metadata": {},
     "output_type": "execute_result"
    }
   ],
   "source": [
    "# req: print all alternate values from naveen\n",
    "\n",
    "students[1:6:2]"
   ]
  },
  {
   "cell_type": "code",
   "execution_count": null,
   "id": "8f4700f6",
   "metadata": {},
   "outputs": [],
   "source": []
  }
 ],
 "metadata": {
  "kernelspec": {
   "display_name": "Python 3 (ipykernel)",
   "language": "python",
   "name": "python3"
  },
  "language_info": {
   "codemirror_mode": {
    "name": "ipython",
    "version": 3
   },
   "file_extension": ".py",
   "mimetype": "text/x-python",
   "name": "python",
   "nbconvert_exporter": "python",
   "pygments_lexer": "ipython3",
   "version": "3.11.4"
  }
 },
 "nbformat": 4,
 "nbformat_minor": 5
}
