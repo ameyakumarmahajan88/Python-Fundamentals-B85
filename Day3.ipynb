{
 "cells": [
  {
   "cell_type": "code",
   "execution_count": 1,
   "id": "7041bba5",
   "metadata": {},
   "outputs": [
    {
     "data": {
      "text/plain": [
       "str"
      ]
     },
     "execution_count": 1,
     "metadata": {},
     "output_type": "execute_result"
    }
   ],
   "source": [
    "name1='ameya'\n",
    "type(name1)\n"
   ]
  },
  {
   "cell_type": "code",
   "execution_count": 2,
   "id": "337a72f9",
   "metadata": {},
   "outputs": [
    {
     "name": "stdout",
     "output_type": "stream",
     "text": [
      "lucky singh\n"
     ]
    }
   ],
   "source": [
    "# continuation with srtings :\n",
    "\n",
    "fullname = 'lucky singh'\n",
    "print(fullname)"
   ]
  },
  {
   "cell_type": "code",
   "execution_count": 5,
   "id": "e1db2fc7",
   "metadata": {},
   "outputs": [
    {
     "name": "stdout",
     "output_type": "stream",
     "text": [
      "Lucky Singh\n"
     ]
    }
   ],
   "source": [
    "print(fullname.title())"
   ]
  },
  {
   "cell_type": "code",
   "execution_count": 6,
   "id": "f3bd2bb9",
   "metadata": {},
   "outputs": [
    {
     "name": "stdout",
     "output_type": "stream",
     "text": [
      "LUCKY SINGH\n"
     ]
    }
   ],
   "source": [
    "#req : convert fullname into capital letters\n",
    "\n",
    "print(fullname.upper())"
   ]
  },
  {
   "cell_type": "code",
   "execution_count": 7,
   "id": "b4475a60",
   "metadata": {},
   "outputs": [
    {
     "name": "stdout",
     "output_type": "stream",
     "text": [
      "lucky singh\n"
     ]
    }
   ],
   "source": [
    "#req :I want to convert fullname into small letters\n",
    "\n",
    "print(fullname.lower())"
   ]
  },
  {
   "cell_type": "code",
   "execution_count": 11,
   "id": "e45520a3",
   "metadata": {},
   "outputs": [
    {
     "name": "stdout",
     "output_type": "stream",
     "text": [
      "leena patil\n"
     ]
    }
   ],
   "source": [
    "## Introduction to fstrings  ** interview questions\n",
    "\n",
    "# General syntax of fstrings\n",
    "\n",
    "firstname ='leena'\n",
    "\n",
    "lastname = 'patil'\n",
    "\n",
    "# req : I want to get the full name...\n",
    "\n",
    "fullname = f\"{firstname} {lastname}\"\n",
    "print(fullname)"
   ]
  },
  {
   "cell_type": "code",
   "execution_count": 12,
   "id": "408d6317",
   "metadata": {},
   "outputs": [
    {
     "name": "stdout",
     "output_type": "stream",
     "text": [
      "Leena Patil\n"
     ]
    }
   ],
   "source": [
    "print(fullname.title())"
   ]
  },
  {
   "cell_type": "code",
   "execution_count": 14,
   "id": "f2f57bf5",
   "metadata": {},
   "outputs": [
    {
     "name": "stdout",
     "output_type": "stream",
     "text": [
      "Keep up the good work,Leena Patil\n"
     ]
    }
   ],
   "source": [
    "message =f\"Keep up the good work,{fullname.title()}\"\n",
    "print(message)"
   ]
  },
  {
   "cell_type": "code",
   "execution_count": 15,
   "id": "8c4449df",
   "metadata": {},
   "outputs": [
    {
     "name": "stdout",
     "output_type": "stream",
     "text": [
      "fav_language:pythonjavac++swiftscala\n"
     ]
    }
   ],
   "source": [
    "# adding whitespaces to strings...\n",
    "\n",
    "print(\"fav_language:pythonjavac++swiftscala\")"
   ]
  },
  {
   "cell_type": "code",
   "execution_count": 16,
   "id": "477fc90c",
   "metadata": {},
   "outputs": [
    {
     "name": "stdout",
     "output_type": "stream",
     "text": [
      "fav_language:python\n",
      "java\n",
      "c++\n",
      "swift\n",
      "scala\n"
     ]
    }
   ],
   "source": [
    "print(\"fav_language:python\\njava\\nc++\\nswift\\nscala\")"
   ]
  },
  {
   "cell_type": "code",
   "execution_count": 17,
   "id": "d3c562e4",
   "metadata": {},
   "outputs": [
    {
     "name": "stdout",
     "output_type": "stream",
     "text": [
      "fav_language:python\tjava\tc++\tswift\tscala\n"
     ]
    }
   ],
   "source": [
    "print(\"fav_language:python\\tjava\\tc++\\tswift\\tscala\")"
   ]
  },
  {
   "cell_type": "code",
   "execution_count": 18,
   "id": "905fbc21",
   "metadata": {},
   "outputs": [
    {
     "name": "stdout",
     "output_type": "stream",
     "text": [
      "fav_language:python\n",
      "\tjava\n",
      "\tc++\n",
      "\tswift\n",
      "\tscala\n"
     ]
    }
   ],
   "source": [
    "print(\"fav_language:python\\n\\tjava\\n\\tc++\\n\\tswift\\n\\tscala\")"
   ]
  },
  {
   "cell_type": "code",
   "execution_count": 19,
   "id": "02890fec",
   "metadata": {},
   "outputs": [
    {
     "name": "stdout",
     "output_type": "stream",
     "text": [
      "python\n",
      "python \n",
      " python\n"
     ]
    }
   ],
   "source": [
    "# Removing whitespaces from strings\n",
    "\n",
    "name=\"python\"\n",
    "name2 = \"python \"\n",
    "\n",
    "print(name)\n",
    "print(name2)\n",
    "\n",
    "name3 = \" python\"\n",
    "print(name3)\n",
    "\n"
   ]
  },
  {
   "cell_type": "code",
   "execution_count": 20,
   "id": "fb1fa1b8",
   "metadata": {},
   "outputs": [
    {
     "data": {
      "text/plain": [
       "'python'"
      ]
     },
     "execution_count": 20,
     "metadata": {},
     "output_type": "execute_result"
    }
   ],
   "source": [
    "name2.rstrip()"
   ]
  },
  {
   "cell_type": "code",
   "execution_count": 21,
   "id": "a4f6e7c8",
   "metadata": {},
   "outputs": [
    {
     "data": {
      "text/plain": [
       "'python'"
      ]
     },
     "execution_count": 21,
     "metadata": {},
     "output_type": "execute_result"
    }
   ],
   "source": [
    "name3.lstrip()"
   ]
  },
  {
   "cell_type": "code",
   "execution_count": 22,
   "id": "e034aa64",
   "metadata": {},
   "outputs": [
    {
     "data": {
      "text/plain": [
       "'python'"
      ]
     },
     "execution_count": 22,
     "metadata": {},
     "output_type": "execute_result"
    }
   ],
   "source": [
    "name3.strip()"
   ]
  },
  {
   "cell_type": "code",
   "execution_count": null,
   "id": "93cd2605",
   "metadata": {},
   "outputs": [],
   "source": []
  }
 ],
 "metadata": {
  "kernelspec": {
   "display_name": "Python 3 (ipykernel)",
   "language": "python",
   "name": "python3"
  },
  "language_info": {
   "codemirror_mode": {
    "name": "ipython",
    "version": 3
   },
   "file_extension": ".py",
   "mimetype": "text/x-python",
   "name": "python",
   "nbconvert_exporter": "python",
   "pygments_lexer": "ipython3",
   "version": "3.11.4"
  }
 },
 "nbformat": 4,
 "nbformat_minor": 5
}
