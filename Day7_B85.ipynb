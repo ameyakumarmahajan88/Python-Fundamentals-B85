{
 "cells": [
  {
   "cell_type": "code",
   "execution_count": 1,
   "id": "82d671a6",
   "metadata": {},
   "outputs": [
    {
     "name": "stdout",
     "output_type": "stream",
     "text": [
      "('sarika', 'keerthi', 'naveed', 'joseph')\n"
     ]
    }
   ],
   "source": [
    "\"\"\"\n",
    "introduction to tuple datatype\n",
    "\n",
    "Tuple:\n",
    "A tuple is nothing but an immutable list\n",
    "\n",
    "It is classified as an immutable datatype. We will not be able to alter/modify it.\n",
    "\n",
    "how to define a tuple ====> ()\n",
    "\n",
    "\"\"\"\n",
    "\n",
    "students = ('sarika','keerthi','naveed','joseph')\n",
    "\n",
    "print(students)"
   ]
  },
  {
   "cell_type": "code",
   "execution_count": 2,
   "id": "4c29b43b",
   "metadata": {},
   "outputs": [
    {
     "data": {
      "text/plain": [
       "tuple"
      ]
     },
     "execution_count": 2,
     "metadata": {},
     "output_type": "execute_result"
    }
   ],
   "source": [
    "type(students)"
   ]
  },
  {
   "cell_type": "code",
   "execution_count": 3,
   "id": "691d27e2",
   "metadata": {},
   "outputs": [
    {
     "data": {
      "text/plain": [
       "'sarika'"
      ]
     },
     "execution_count": 3,
     "metadata": {},
     "output_type": "execute_result"
    }
   ],
   "source": [
    "students[0]"
   ]
  },
  {
   "cell_type": "code",
   "execution_count": 4,
   "id": "b69fb1c6",
   "metadata": {},
   "outputs": [
    {
     "name": "stdout",
     "output_type": "stream",
     "text": [
      "keerthi\n"
     ]
    }
   ],
   "source": [
    "print(students[1])"
   ]
  },
  {
   "cell_type": "code",
   "execution_count": 5,
   "id": "8543a28c",
   "metadata": {},
   "outputs": [
    {
     "data": {
      "text/plain": [
       "'naveed'"
      ]
     },
     "execution_count": 5,
     "metadata": {},
     "output_type": "execute_result"
    }
   ],
   "source": [
    "students[2]"
   ]
  },
  {
   "cell_type": "code",
   "execution_count": 6,
   "id": "07c34adf",
   "metadata": {},
   "outputs": [
    {
     "data": {
      "text/plain": [
       "'joseph'"
      ]
     },
     "execution_count": 6,
     "metadata": {},
     "output_type": "execute_result"
    }
   ],
   "source": [
    "students[3]"
   ]
  },
  {
   "cell_type": "code",
   "execution_count": 10,
   "id": "9083e9d6",
   "metadata": {},
   "outputs": [
    {
     "name": "stdout",
     "output_type": "stream",
     "text": [
      "Joseph\n"
     ]
    }
   ],
   "source": [
    "print(students[3].title())"
   ]
  },
  {
   "cell_type": "code",
   "execution_count": 11,
   "id": "9e7cb4f0",
   "metadata": {},
   "outputs": [
    {
     "ename": "TypeError",
     "evalue": "'tuple' object does not support item assignment",
     "output_type": "error",
     "traceback": [
      "\u001b[1;31m---------------------------------------------------------------------------\u001b[0m",
      "\u001b[1;31mTypeError\u001b[0m                                 Traceback (most recent call last)",
      "Cell \u001b[1;32mIn[11], line 1\u001b[0m\n\u001b[1;32m----> 1\u001b[0m students[\u001b[38;5;241m0\u001b[39m] \u001b[38;5;241m=\u001b[39m \u001b[38;5;124m'\u001b[39m\u001b[38;5;124msangeetha\u001b[39m\u001b[38;5;124m'\u001b[39m\n",
      "\u001b[1;31mTypeError\u001b[0m: 'tuple' object does not support item assignment"
     ]
    }
   ],
   "source": [
    "students[0] = 'sangeetha'"
   ]
  },
  {
   "cell_type": "code",
   "execution_count": 12,
   "id": "cf74cf1b",
   "metadata": {},
   "outputs": [
    {
     "name": "stdout",
     "output_type": "stream",
     "text": [
      "(200, 50)\n"
     ]
    }
   ],
   "source": [
    "# we only use tuple when we do not want to change the values\n",
    "\n",
    "dimensions =(200,50)\n",
    "print(dimensions)\n"
   ]
  },
  {
   "cell_type": "code",
   "execution_count": 13,
   "id": "4e18a814",
   "metadata": {},
   "outputs": [
    {
     "data": {
      "text/plain": [
       "tuple"
      ]
     },
     "execution_count": 13,
     "metadata": {},
     "output_type": "execute_result"
    }
   ],
   "source": [
    "type(dimensions)"
   ]
  },
  {
   "cell_type": "code",
   "execution_count": 14,
   "id": "f02f4917",
   "metadata": {},
   "outputs": [
    {
     "ename": "TypeError",
     "evalue": "'tuple' object does not support item assignment",
     "output_type": "error",
     "traceback": [
      "\u001b[1;31m---------------------------------------------------------------------------\u001b[0m",
      "\u001b[1;31mTypeError\u001b[0m                                 Traceback (most recent call last)",
      "Cell \u001b[1;32mIn[14], line 1\u001b[0m\n\u001b[1;32m----> 1\u001b[0m dimensions[\u001b[38;5;241m0\u001b[39m]\u001b[38;5;241m=\u001b[39m\u001b[38;5;241m400\u001b[39m\n",
      "\u001b[1;31mTypeError\u001b[0m: 'tuple' object does not support item assignment"
     ]
    }
   ],
   "source": [
    "dimensions[0]=400\n"
   ]
  },
  {
   "cell_type": "code",
   "execution_count": 15,
   "id": "b9b40a4f",
   "metadata": {},
   "outputs": [
    {
     "name": "stdout",
     "output_type": "stream",
     "text": [
      "('sarika', 'keerthi', 'naveed', 'joseph')\n"
     ]
    }
   ],
   "source": [
    "print(students)"
   ]
  },
  {
   "cell_type": "code",
   "execution_count": 16,
   "id": "8719839c",
   "metadata": {},
   "outputs": [
    {
     "data": {
      "text/plain": [
       "tuple"
      ]
     },
     "execution_count": 16,
     "metadata": {},
     "output_type": "execute_result"
    }
   ],
   "source": [
    "type(students)"
   ]
  },
  {
   "cell_type": "code",
   "execution_count": 17,
   "id": "e9e18f0f",
   "metadata": {},
   "outputs": [
    {
     "name": "stdout",
     "output_type": "stream",
     "text": [
      "sarika\n"
     ]
    }
   ],
   "source": [
    "print(students[0])"
   ]
  },
  {
   "cell_type": "code",
   "execution_count": 18,
   "id": "2c3a6e34",
   "metadata": {},
   "outputs": [
    {
     "name": "stdout",
     "output_type": "stream",
     "text": [
      "keerthi\n"
     ]
    }
   ],
   "source": [
    "print(students[1])"
   ]
  },
  {
   "cell_type": "code",
   "execution_count": 21,
   "id": "a10dee77",
   "metadata": {},
   "outputs": [
    {
     "name": "stdout",
     "output_type": "stream",
     "text": [
      "Keerthi\n"
     ]
    }
   ],
   "source": [
    "print(students[1].title())"
   ]
  },
  {
   "cell_type": "code",
   "execution_count": 22,
   "id": "b7a89e16",
   "metadata": {},
   "outputs": [
    {
     "name": "stdout",
     "output_type": "stream",
     "text": [
      "NAVEED\n"
     ]
    }
   ],
   "source": [
    "print(students[2].upper())"
   ]
  },
  {
   "cell_type": "code",
   "execution_count": 26,
   "id": "cad5302f",
   "metadata": {},
   "outputs": [
    {
     "name": "stdout",
     "output_type": "stream",
     "text": [
      "sarika\n",
      "keerthi\n",
      "naveed\n",
      "joseph\n"
     ]
    }
   ],
   "source": [
    "for x in students:\n",
    "    print(x)"
   ]
  },
  {
   "cell_type": "code",
   "execution_count": 27,
   "id": "9eda3ce4",
   "metadata": {},
   "outputs": [
    {
     "name": "stdout",
     "output_type": "stream",
     "text": [
      "SARIKA\n",
      "KEERTHI\n",
      "NAVEED\n",
      "JOSEPH\n"
     ]
    }
   ],
   "source": [
    "for a in students:\n",
    "    print(a.upper())"
   ]
  },
  {
   "cell_type": "code",
   "execution_count": 28,
   "id": "6f1841ea",
   "metadata": {},
   "outputs": [
    {
     "name": "stdout",
     "output_type": "stream",
     "text": [
      "sarika\n",
      "keerthi\n",
      "naveed\n",
      "joseph\n"
     ]
    }
   ],
   "source": [
    "for a in students:\n",
    "    print(a.lower())"
   ]
  },
  {
   "cell_type": "code",
   "execution_count": 29,
   "id": "64287a1b",
   "metadata": {},
   "outputs": [
    {
     "name": "stdout",
     "output_type": "stream",
     "text": [
      "Sarika\n",
      "Keerthi\n",
      "Naveed\n",
      "Joseph\n"
     ]
    }
   ],
   "source": [
    "for a in students:\n",
    "    print(a.title())"
   ]
  },
  {
   "cell_type": "code",
   "execution_count": 30,
   "id": "f2f2a50e",
   "metadata": {},
   "outputs": [
    {
     "ename": "AttributeError",
     "evalue": "'tuple' object has no attribute 'insert'",
     "output_type": "error",
     "traceback": [
      "\u001b[1;31m---------------------------------------------------------------------------\u001b[0m",
      "\u001b[1;31mAttributeError\u001b[0m                            Traceback (most recent call last)",
      "Cell \u001b[1;32mIn[30], line 1\u001b[0m\n\u001b[1;32m----> 1\u001b[0m students\u001b[38;5;241m.\u001b[39minsert(\u001b[38;5;241m2\u001b[39m,\u001b[38;5;124m'\u001b[39m\u001b[38;5;124mameya\u001b[39m\u001b[38;5;124m'\u001b[39m)\n",
      "\u001b[1;31mAttributeError\u001b[0m: 'tuple' object has no attribute 'insert'"
     ]
    }
   ],
   "source": [
    "students.insert(2,'ameya')"
   ]
  },
  {
   "cell_type": "code",
   "execution_count": 32,
   "id": "c631d720",
   "metadata": {},
   "outputs": [
    {
     "ename": "TypeError",
     "evalue": "'tuple' object doesn't support item deletion",
     "output_type": "error",
     "traceback": [
      "\u001b[1;31m---------------------------------------------------------------------------\u001b[0m",
      "\u001b[1;31mTypeError\u001b[0m                                 Traceback (most recent call last)",
      "Cell \u001b[1;32mIn[32], line 1\u001b[0m\n\u001b[1;32m----> 1\u001b[0m \u001b[38;5;28;01mdel\u001b[39;00m students[\u001b[38;5;241m0\u001b[39m]\n",
      "\u001b[1;31mTypeError\u001b[0m: 'tuple' object doesn't support item deletion"
     ]
    }
   ],
   "source": [
    "del students[0]"
   ]
  },
  {
   "cell_type": "code",
   "execution_count": 35,
   "id": "cd85ead2",
   "metadata": {},
   "outputs": [
    {
     "name": "stdout",
     "output_type": "stream",
     "text": [
      "{'colour': 'green', 'points': 5}\n"
     ]
    }
   ],
   "source": [
    "\"\"\"\n",
    "Introduction to dictionary datatype\n",
    "\n",
    "A dictionary is a combination of key, value pairs.\n",
    "\n",
    "Classification: It is classified as a mutable data type, it can be altered/modified\n",
    "\n",
    "\n",
    "How to define a dictionary? ..... {}\n",
    "\n",
    "\n",
    "\"\"\" \n",
    "\n",
    "alien = {'colour':'green','points':5}\n",
    "print(alien)\n"
   ]
  },
  {
   "cell_type": "code",
   "execution_count": 36,
   "id": "80fde617",
   "metadata": {},
   "outputs": [
    {
     "data": {
      "text/plain": [
       "dict"
      ]
     },
     "execution_count": 36,
     "metadata": {},
     "output_type": "execute_result"
    }
   ],
   "source": [
    "type(alien)"
   ]
  },
  {
   "cell_type": "code",
   "execution_count": 38,
   "id": "db242fbd",
   "metadata": {},
   "outputs": [
    {
     "name": "stdout",
     "output_type": "stream",
     "text": [
      "{'first_Name': 'Ameya', 'last_Name': 'Mahajan', 'DOB': '04/01/1988', 'password': 54321}\n"
     ]
    }
   ],
   "source": [
    "# requirement..create a facebook account\n",
    "\n",
    "user_Name = {'first_Name':'Ameya','last_Name':'Mahajan','DOB':'04/01/1988','password':54321}\n",
    "print(user_Name)"
   ]
  },
  {
   "cell_type": "code",
   "execution_count": 39,
   "id": "e7d8d30c",
   "metadata": {},
   "outputs": [
    {
     "data": {
      "text/plain": [
       "dict"
      ]
     },
     "execution_count": 39,
     "metadata": {},
     "output_type": "execute_result"
    }
   ],
   "source": [
    "type(user_Name)"
   ]
  },
  {
   "cell_type": "code",
   "execution_count": 41,
   "id": "5140d28d",
   "metadata": {},
   "outputs": [
    {
     "name": "stdout",
     "output_type": "stream",
     "text": [
      "{'first_Name': 'Ameya', 'last_Name': 'Mahajan', 'DOB': '04/01/1988', 'password': 54321, 'location': 'silicon valley'}\n"
     ]
    }
   ],
   "source": [
    "# req: to add new kew value pair to the dict\n",
    "\n",
    "user_Name['location'] = 'silicon valley'\n",
    "print(user_Name)"
   ]
  },
  {
   "cell_type": "code",
   "execution_count": 42,
   "id": "822a9588",
   "metadata": {},
   "outputs": [
    {
     "name": "stdout",
     "output_type": "stream",
     "text": [
      "{'first_Name': 'Ameya', 'last_Name': 'Mahajan', 'DOB': '04/01/1988', 'password': 54321, 'location': 'silicon valley', 'address': 'Bandra'}\n"
     ]
    }
   ],
   "source": [
    "user_Name['address'] = 'Bandra'\n",
    "print(user_Name)"
   ]
  },
  {
   "cell_type": "code",
   "execution_count": 43,
   "id": "acb3fc1b",
   "metadata": {},
   "outputs": [
    {
     "name": "stdout",
     "output_type": "stream",
     "text": [
      "Ameya\n"
     ]
    }
   ],
   "source": [
    "# how to access key value\n",
    "\n",
    "# Give the key and get the value\n",
    "\n",
    "\n",
    "print(user_Name['first_Name'])\n"
   ]
  },
  {
   "cell_type": "code",
   "execution_count": 45,
   "id": "cd69cb08",
   "metadata": {},
   "outputs": [
    {
     "name": "stdout",
     "output_type": "stream",
     "text": [
      "04/01/1988\n"
     ]
    }
   ],
   "source": [
    "print(user_Name['DOB'])"
   ]
  },
  {
   "cell_type": "code",
   "execution_count": 46,
   "id": "8211f624",
   "metadata": {},
   "outputs": [
    {
     "data": {
      "text/plain": [
       "'04/01/1988'"
      ]
     },
     "execution_count": 46,
     "metadata": {},
     "output_type": "execute_result"
    }
   ],
   "source": [
    "user_Name['DOB']"
   ]
  },
  {
   "cell_type": "code",
   "execution_count": 47,
   "id": "89f4a444",
   "metadata": {},
   "outputs": [
    {
     "data": {
      "text/plain": [
       "'silicon valley'"
      ]
     },
     "execution_count": 47,
     "metadata": {},
     "output_type": "execute_result"
    }
   ],
   "source": [
    "user_Name['location']"
   ]
  },
  {
   "cell_type": "code",
   "execution_count": 48,
   "id": "57477079",
   "metadata": {},
   "outputs": [
    {
     "name": "stdout",
     "output_type": "stream",
     "text": [
      "Bandra\n"
     ]
    }
   ],
   "source": [
    "print(user_Name['address'])"
   ]
  },
  {
   "cell_type": "code",
   "execution_count": 49,
   "id": "225ae8d3",
   "metadata": {},
   "outputs": [
    {
     "data": {
      "text/plain": [
       "'Bandra'"
      ]
     },
     "execution_count": 49,
     "metadata": {},
     "output_type": "execute_result"
    }
   ],
   "source": [
    "user_Name['address']"
   ]
  },
  {
   "cell_type": "code",
   "execution_count": 50,
   "id": "51d32a8e",
   "metadata": {},
   "outputs": [
    {
     "ename": "KeyError",
     "evalue": "'Ameya'",
     "output_type": "error",
     "traceback": [
      "\u001b[1;31m---------------------------------------------------------------------------\u001b[0m",
      "\u001b[1;31mKeyError\u001b[0m                                  Traceback (most recent call last)",
      "Cell \u001b[1;32mIn[50], line 1\u001b[0m\n\u001b[1;32m----> 1\u001b[0m user_Name[\u001b[38;5;124m'\u001b[39m\u001b[38;5;124mAmeya\u001b[39m\u001b[38;5;124m'\u001b[39m]\n",
      "\u001b[1;31mKeyError\u001b[0m: 'Ameya'"
     ]
    }
   ],
   "source": [
    "user_Name['Ameya']  # we cannot pass value and get the key..it gives key error"
   ]
  },
  {
   "cell_type": "code",
   "execution_count": null,
   "id": "e7aaf918",
   "metadata": {},
   "outputs": [],
   "source": []
  }
 ],
 "metadata": {
  "kernelspec": {
   "display_name": "Python 3 (ipykernel)",
   "language": "python",
   "name": "python3"
  },
  "language_info": {
   "codemirror_mode": {
    "name": "ipython",
    "version": 3
   },
   "file_extension": ".py",
   "mimetype": "text/x-python",
   "name": "python",
   "nbconvert_exporter": "python",
   "pygments_lexer": "ipython3",
   "version": "3.11.4"
  }
 },
 "nbformat": 4,
 "nbformat_minor": 5
}
